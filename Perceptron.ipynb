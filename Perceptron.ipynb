{
 "cells": [
  {
   "cell_type": "code",
   "execution_count": 37,
   "metadata": {},
   "outputs": [],
   "source": [
    "import numpy as np\n",
    "import matplotlib.pyplot as plt"
   ]
  },
  {
   "cell_type": "code",
   "execution_count": 39,
   "metadata": {},
   "outputs": [],
   "source": [
    "class Perceptron:\n",
    "    \n",
    "    def __init__(self, eta=0.10, epochs=50):\n",
    "        \n",
    "        self.eta = eta\n",
    "        self.epochs = epochs\n",
    "        \n",
    "        \n",
    "    def predict(self, x):\n",
    "        \n",
    "        total_stimulation = np.dot(x, self.w)       \n",
    "        y_pred = 1 if total_stimulation > 0 else -1\n",
    "        return y_pred\n",
    "        \n",
    "    \n",
    "    def fit(self, X, y):\n",
    "        \n",
    "        ones = np.ones((X.shape[0], 1))\n",
    "        X_1 = np.append(X.copy(), ones, axis=1)\n",
    " \n",
    "        self.w = np.random.rand(X_1.shape[1])\n",
    "        \n",
    "        for e in range(self.epochs):\n",
    " \n",
    "            for x, y_target in zip(X_1,y):\n",
    "            \n",
    "                y_pred = self.predict(x)\n",
    "                delta_w = self.eta * (y_target - y_pred) * x\n",
    "                self.w += delta_w"
   ]
  },
  {
   "cell_type": "code",
   "execution_count": 40,
   "metadata": {},
   "outputs": [],
   "source": [
    "X = np.array([\n",
    "    [2, 4,  20],  # 2*2 - 4*4 + 20 =   8 > 0\n",
    "    [4, 3, -10],  # 2*4 - 4*3 - 10 = -14 < 0\n",
    "    [5, 6,  13],  # 2*5 - 4*6 + 13 =  -1 < 0\n",
    "    [5, 4,   8],  # 2*5 - 4*4 + 8 =    2 > 0\n",
    "    [3, 4,   5],  # 2*3 - 4*4 + 5 =   -5 < 0 \n",
    "])\n",
    " \n",
    "y = np.array([1, -1, -1, 1, -1])"
   ]
  },
  {
   "cell_type": "code",
   "execution_count": 42,
   "metadata": {},
   "outputs": [],
   "source": [
    "perceptron = Perceptron(eta=0.1, epochs=100)            \n",
    "perceptron.fit(X, y)"
   ]
  },
  {
   "cell_type": "code",
   "execution_count": 43,
   "metadata": {},
   "outputs": [
    {
     "name": "stdout",
     "output_type": "stream",
     "text": [
      "[ 3.49887662 -7.98922613  2.28869756  0.30417132]\n"
     ]
    }
   ],
   "source": [
    "print(perceptron.w)"
   ]
  },
  {
   "cell_type": "code",
   "execution_count": 44,
   "metadata": {},
   "outputs": [
    {
     "name": "stdout",
     "output_type": "stream",
     "text": [
      "-1\n",
      "1\n",
      "-1\n"
     ]
    }
   ],
   "source": [
    "print(perceptron.predict(np.array([[1, 2, 3, 1]])))  # 2*1 - 4*2 + 1 = -3 < 0\n",
    "print(perceptron.predict(np.array([[2, 2, 8, 1]])))  # 2*2 - 4*2 + 8 =  4 > 0\n",
    "print(perceptron.predict(np.array([[3, 3, 3, 1]])))  # 2*3 - 4*3 + 3 = -3 < 0"
   ]
  }
 ],
 "metadata": {
  "kernelspec": {
   "display_name": "Python 3",
   "language": "python",
   "name": "python3"
  },
  "language_info": {
   "codemirror_mode": {
    "name": "ipython",
    "version": 3
   },
   "file_extension": ".py",
   "mimetype": "text/x-python",
   "name": "python",
   "nbconvert_exporter": "python",
   "pygments_lexer": "ipython3",
   "version": "3.7.6"
  }
 },
 "nbformat": 4,
 "nbformat_minor": 4
}
